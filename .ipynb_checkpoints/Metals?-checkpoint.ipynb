{
 "cells": [
  {
   "cell_type": "code",
   "execution_count": 1,
   "id": "3348b149-006f-4813-ae0f-d7ba88ad1212",
   "metadata": {
    "tags": []
   },
   "outputs": [],
   "source": [
    "#start by importing some needed modules\n",
    "#You may see some warnings... unless it spits out an error, you can ignore them!\n",
    "import tangos as db\n",
    "import numpy as np\n",
    "import pynbody\n",
    "import matplotlib.pyplot as plt\n",
    "from array import array\n",
    "plt.ion()\n",
    "\n",
    "#Set up some properties to make the plots look nice\n",
    "plt.rcParams['figure.figsize'] = (12, 9) #set figure size\n",
    "plt.rcParams['font.size'] = 20 #set font size so things are readible and not too small or bit\n",
    "plt.rcParams['font.family'] = 'sans-serif' # just a font preference here\n",
    "plt.rcParams['xtick.major.size'] = 10 #size and widths of major/minor tick marks on plots\n",
    "plt.rcParams['xtick.major.width'] = 2\n",
    "plt.rcParams['ytick.major.size'] = 10\n",
    "plt.rcParams['ytick.major.width'] = 2\n",
    "plt.rcParams['xtick.minor.size'] = 5\n",
    "plt.rcParams['xtick.minor.width'] = 1\n",
    "plt.rcParams['ytick.minor.size'] = 5\n",
    "plt.rcParams['ytick.minor.width'] = 1\n",
    "\n",
    "\n",
    "#load in the database simulation (also a good check that you are reading the right database file!)\n",
    "sim = db.get_simulation('cosmo25')"
   ]
  },
  {
   "cell_type": "code",
   "execution_count": 2,
   "id": "ed170482-85a2-4cba-bb0f-68893bbe5109",
   "metadata": {
    "tags": []
   },
   "outputs": [],
   "source": [
    "##getting the last time step\n",
    "step = db.get_timestep('cosmo25/%8192')"
   ]
  },
  {
   "cell_type": "code",
   "execution_count": 3,
   "id": "80a9c50c-28c7-48d2-968c-e459d7ed85ee",
   "metadata": {
    "tags": []
   },
   "outputs": [],
   "source": [
    "tot_stellar_mass, stellar_mass_prof, gas_mass_prof, stellar_metal, gas_metal, Mtot, halo_num =  step.calculate_all('Mstar','star_mass_profile', 'gas_mass_profile',\n",
    "                   'star_metal_profile',\n",
    "                   'gas_metal_profile',\n",
    "                   'Mvir',\n",
    "                   'halo_number()')"
   ]
  },
  {
   "cell_type": "code",
   "execution_count": 11,
   "id": "7b79785c-e71c-4b4e-a260-99cb8e610710",
   "metadata": {
    "tags": []
   },
   "outputs": [],
   "source": [
    "def get_dm(arr1, i):\n",
    "    x = arr1[i][1:]-arr1[i][:-1]\n",
    "    x = np.append(arr1[i][0], x)\n",
    "    return x"
   ]
  },
  {
   "cell_type": "code",
   "execution_count": 10,
   "id": "2ecb9208-34a2-40fb-b0e9-b5a695ce6f29",
   "metadata": {
    "tags": []
   },
   "outputs": [],
   "source": [
    "def get_metals(arr1, metal_arr, tot_arr, i):\n",
    "    x = np.nansum(arr1 * metal_arr[i])/(tot_arr[i])\n",
    "    return x"
   ]
  },
  {
   "cell_type": "code",
   "execution_count": 9,
   "id": "e657a041-670a-444d-b528-93ab11068b77",
   "metadata": {},
   "outputs": [
    {
     "name": "stdout",
     "output_type": "stream",
     "text": [
      "[7.16699072e+08 1.71659315e+09 2.64171494e+09 ... 0.00000000e+00\n",
      " 0.00000000e+00 0.00000000e+00]\n"
     ]
    }
   ],
   "source": [
    "print(get_dm(stellar_mass_prof, 0))"
   ]
  },
  {
   "cell_type": "code",
   "execution_count": null,
   "id": "cc647882-eca3-4c26-9f81-87c71261a292",
   "metadata": {},
   "outputs": [],
   "source": []
  }
 ],
 "metadata": {
  "kernelspec": {
   "display_name": "Python 3 (ipykernel)",
   "language": "python",
   "name": "python3"
  },
  "language_info": {
   "codemirror_mode": {
    "name": "ipython",
    "version": 3
   },
   "file_extension": ".py",
   "mimetype": "text/x-python",
   "name": "python",
   "nbconvert_exporter": "python",
   "pygments_lexer": "ipython3",
   "version": "3.10.10"
  }
 },
 "nbformat": 4,
 "nbformat_minor": 5
}
