{
 "cells": [
  {
   "cell_type": "markdown",
   "id": "cb4c35c3-efea-4730-a0eb-ed6539d7c81e",
   "metadata": {},
   "source": [
    "# Preamble"
   ]
  },
  {
   "cell_type": "code",
   "execution_count": 1,
   "id": "f0bedd85-c6aa-477c-a502-66e2e5fb9a5a",
   "metadata": {
    "tags": []
   },
   "outputs": [],
   "source": [
    "#start by importing some needed modules\n",
    "#You may see some warnings... unless it spits out an error, you can ignore them!\n",
    "import tangos as db\n",
    "import numpy as np\n",
    "import pynbody\n",
    "import matplotlib.pyplot as plt\n",
    "from array import array\n",
    "import pickle\n",
    "import statistics as st\n",
    "plt.ion()\n",
    "\n",
    "#Set up some properties to make the plots look nice\n",
    "plt.rcParams['figure.figsize'] = (12, 9) #set figure size\n",
    "plt.rcParams['font.size'] = 20 #set font size so things are readible and not too small or bit\n",
    "plt.rcParams['font.family'] = 'sans-serif' # just a font preference here\n",
    "plt.rcParams['xtick.major.size'] = 10 #size and widths of major/minor tick marks on plots\n",
    "plt.rcParams['xtick.major.width'] = 2\n",
    "plt.rcParams['ytick.major.size'] = 10\n",
    "plt.rcParams['ytick.major.width'] = 2\n",
    "plt.rcParams['xtick.minor.size'] = 5\n",
    "plt.rcParams['xtick.minor.width'] = 1\n",
    "plt.rcParams['ytick.minor.size'] = 5\n",
    "plt.rcParams['ytick.minor.width'] = 1\n",
    "\n",
    "\n",
    "#load in the database simulation (also a good check that you are reading the right database file!)\n",
    "sim = db.get_simulation('cosmo25')"
   ]
  },
  {
   "cell_type": "code",
   "execution_count": 2,
   "id": "2716eb20-b9c3-47d2-a311-c2550ddc879a",
   "metadata": {
    "tags": []
   },
   "outputs": [],
   "source": [
    "##getting the last time step\n",
    "step = db.get_timestep('cosmo25/%8192')"
   ]
  },
  {
   "cell_type": "code",
   "execution_count": 3,
   "id": "b98f4f1d-8c5f-4f99-97b3-5aa67b2a0b05",
   "metadata": {
    "tags": []
   },
   "outputs": [],
   "source": [
    "solar_metal = 0.0134"
   ]
  },
  {
   "cell_type": "markdown",
   "id": "2d49605a-4169-4da5-8202-f4916f525905",
   "metadata": {},
   "source": [
    "# Data"
   ]
  },
  {
   "cell_type": "code",
   "execution_count": 4,
   "id": "aaabaae4-ecd5-4669-80d9-65a890c2197d",
   "metadata": {
    "tags": []
   },
   "outputs": [],
   "source": [
    "f = open('./Data/stellar_metal_BH.pkl', 'rb')\n",
    "stellar_metal_BH_data = pickle.load(f)\n",
    "f.close\n",
    "\n",
    "f = open('./Data/gas_metal_BH.pkl', 'rb')\n",
    "gas_metal_BH_data = pickle.load(f)\n",
    "f.close()\n",
    "\n",
    "f = open('./Data/stellar_metal.pkl', 'rb')\n",
    "stellar_metal_data = pickle.load(f)\n",
    "f.close()\n",
    "\n",
    "f = open('./Data/gas_metal.pkl', 'rb')\n",
    "gas_metal_data = pickle.load(f)\n",
    "f.close()\n",
    "\n",
    "f = open('./Data/gas_metal_prof_cut.pkl', 'rb')\n",
    "gas_metal_prof_cut_data = pickle.load(f)\n",
    "f.close()\n",
    "\n",
    "f = open('./Data/stellar_SFR_data.pkl', 'rb')\n",
    "SFR_data = pickle.load(f)\n",
    "f.close()\n",
    "\n",
    "f = open('./Data/gas_SFR_data.pkl', 'rb')\n",
    "gas_SFR_data = pickle.load(f)\n",
    "f.close()\n",
    "\n",
    "f = open('./Data/gas_ave_cut.pkl', 'rb')\n",
    "gas_ave_cut_data = pickle.load(f)\n",
    "f.close()"
   ]
  },
  {
   "cell_type": "markdown",
   "id": "26c588b2-db1c-416c-a682-0b39fec7c1c4",
   "metadata": {},
   "source": [
    "# Main"
   ]
  },
  {
   "cell_type": "code",
   "execution_count": 5,
   "id": "8811edf7-d103-4bea-a788-e2e1321fca3c",
   "metadata": {
    "tags": []
   },
   "outputs": [],
   "source": [
    "all_halo_numbers = np.array(gas_metal_data['halo_number'])\n",
    "halo_with_BH = np.unique(step.calculate_all('host_halo.halo_number()')[0])\n",
    "\n",
    "BH_halo_ind = np.where(np.in1d(all_halo_numbers, halo_with_BH))\n",
    "halo_no_BH_ind = np.where(np.in1d(all_halo_numbers, halo_with_BH, invert = True))"
   ]
  },
  {
   "cell_type": "code",
   "execution_count": 6,
   "id": "13b65bdb-5a7d-412b-b18e-ace033beb57d",
   "metadata": {
    "tags": []
   },
   "outputs": [],
   "source": [
    "BH_gas_metal = gas_metal_BH_data['BH_gas_metal']\n",
    "BH_stellar_metal = stellar_metal_BH_data['BH_stellar_metal']\n",
    "\n",
    "stellar_metal_all = stellar_metal_data['tot_stellar_metal']\n",
    "gas_metal_all = gas_metal_data['tot_gas_metal']\n",
    "\n",
    "no_BH_stellar_metal = stellar_metal_all[halo_no_BH_ind]\n",
    "no_BH_gas_metal = stellar_metal_all[halo_no_BH_ind]"
   ]
  },
  {
   "cell_type": "code",
   "execution_count": 7,
   "id": "fdaa067c-d396-4fc9-a457-6f060faddd24",
   "metadata": {
    "tags": []
   },
   "outputs": [],
   "source": [
    "stellar_mass = stellar_metal_data['tot_stellar_mass']"
   ]
  },
  {
   "cell_type": "code",
   "execution_count": 8,
   "id": "f8c4d897-c1f1-48b7-8da6-174069d2f2f6",
   "metadata": {
    "tags": []
   },
   "outputs": [],
   "source": [
    "Mstar_all, halo_num = step.calculate_all('Mstar', 'halo_number()')"
   ]
  },
  {
   "cell_type": "code",
   "execution_count": 9,
   "id": "30b811f9-a013-4717-9bf7-add941e12f5e",
   "metadata": {
    "tags": []
   },
   "outputs": [],
   "source": [
    "gas_median = gas_ave_cut_data['gas_median']\n",
    "mass_median = gas_ave_cut_data['mass_median']\n",
    "\n",
    "BH_high = gas_ave_cut_data['BH_met_high']\n",
    "BH_low = gas_ave_cut_data['BH_met_low']\n",
    "\n",
    "no_BH_high = gas_ave_cut_data['no_BH_met_high']\n",
    "no_BH_low = gas_ave_cut_data['no_BH_met_low']"
   ]
  },
  {
   "cell_type": "code",
   "execution_count": 10,
   "id": "1e80f333-8984-467a-82ee-4f4e76762d7d",
   "metadata": {
    "tags": []
   },
   "outputs": [],
   "source": [
    "with_BH = all_halo_numbers[BH_halo_ind]\n",
    "no_BH = all_halo_numbers[halo_no_BH_ind]"
   ]
  },
  {
   "cell_type": "code",
   "execution_count": 11,
   "id": "48ef6099-385c-4985-b6db-abfbd8c93047",
   "metadata": {
    "tags": []
   },
   "outputs": [],
   "source": [
    "rows = 3057\n",
    "cols = 2\n",
    "\n",
    "gas_2D = np.zeros((rows, cols), dtype = float)\n",
    "\n",
    "loop = np.arange(len(gas_metal_all))\n",
    "\n",
    "for i in loop:\n",
    "    gas_2D[i][0] = stellar_mass[i]\n",
    "    gas_2D[i][1] = gas_metal_all[i]"
   ]
  },
  {
   "cell_type": "code",
   "execution_count": 12,
   "id": "8d4fd53b-1126-4b8c-aa38-9cfcab452b89",
   "metadata": {
    "tags": []
   },
   "outputs": [],
   "source": [
    "gas_ind_6 = np.where(stellar_mass <= 1e6)\n",
    "gas_ind_7 = np.where((stellar_mass <= 1e7) & (stellar_mass >= 1e6))\n",
    "gas_ind_8 = np.where((stellar_mass <= 1e8) & (stellar_mass >= 1e7))\n",
    "gas_ind_9 = np.where((stellar_mass <= 1e9) & (stellar_mass >= 1e8))\n",
    "gas_ind_10 = np.where((stellar_mass <= 1e10) & (stellar_mass >= 1e9))\n",
    "gas_ind_11 = np.where((stellar_mass <= 1e11) & (stellar_mass >= 1e10))\n",
    "gas_ind_12 = np.where((stellar_mass <= 1e12) & (stellar_mass >= 1e11))"
   ]
  },
  {
   "cell_type": "code",
   "execution_count": 13,
   "id": "edc97a71-1250-46c8-ab57-bf893876bdb3",
   "metadata": {
    "tags": []
   },
   "outputs": [
    {
     "data": {
      "text/plain": [
       "array([3.42717434e+07, 1.18801536e+08, 2.91667668e+07, ...,\n",
       "       3.56944821e+05, 6.28865466e+05, 2.86069030e+07])"
      ]
     },
     "execution_count": 13,
     "metadata": {},
     "output_type": "execute_result"
    }
   ],
   "source": [
    "Mstar_all[gas_ind_7]"
   ]
  },
  {
   "cell_type": "code",
   "execution_count": null,
   "id": "c09ed40b-5ab6-4b9e-9cee-2881282b8991",
   "metadata": {},
   "outputs": [],
   "source": []
  }
 ],
 "metadata": {
  "kernelspec": {
   "display_name": "Python 3 (ipykernel)",
   "language": "python",
   "name": "python3"
  },
  "language_info": {
   "codemirror_mode": {
    "name": "ipython",
    "version": 3
   },
   "file_extension": ".py",
   "mimetype": "text/x-python",
   "name": "python",
   "nbconvert_exporter": "python",
   "pygments_lexer": "ipython3",
   "version": "3.10.10"
  }
 },
 "nbformat": 4,
 "nbformat_minor": 5
}
