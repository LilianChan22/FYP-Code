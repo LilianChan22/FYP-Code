{
 "cells": [
  {
   "cell_type": "markdown",
   "id": "a3e66115-2c44-47fa-8f16-b3751af20b83",
   "metadata": {
    "tags": []
   },
   "source": [
    "# Preamble"
   ]
  },
  {
   "cell_type": "code",
   "execution_count": 1,
   "id": "82a256ab-4b2e-4c21-97a5-cac9a7e36b2c",
   "metadata": {
    "tags": []
   },
   "outputs": [],
   "source": [
    "#start by importing some needed modules\n",
    "#You may see some warnings... unless it spits out an error, you can ignore them!\n",
    "import tangos as db\n",
    "import numpy as np\n",
    "import pynbody\n",
    "import matplotlib.pyplot as plt\n",
    "from array import array\n",
    "import pickle\n",
    "import statistics as st\n",
    "plt.ion()\n",
    "\n",
    "#Set up some properties to make the plots look nice\n",
    "plt.rcParams['figure.figsize'] = (12, 9) #set figure size\n",
    "plt.rcParams['font.size'] = 20 #set font size so things are readible and not too small or bit\n",
    "plt.rcParams['font.family'] = 'sans-serif' # just a font preference here\n",
    "plt.rcParams['xtick.major.size'] = 10 #size and widths of major/minor tick marks on plots\n",
    "plt.rcParams['xtick.major.width'] = 2\n",
    "plt.rcParams['ytick.major.size'] = 10\n",
    "plt.rcParams['ytick.major.width'] = 2\n",
    "plt.rcParams['xtick.minor.size'] = 5\n",
    "plt.rcParams['xtick.minor.width'] = 1\n",
    "plt.rcParams['ytick.minor.size'] = 5\n",
    "plt.rcParams['ytick.minor.width'] = 1\n",
    "\n",
    "\n",
    "#load in the database simulation (also a good check that you are reading the right database file!)\n",
    "sim = db.get_simulation('cosmo25')"
   ]
  },
  {
   "cell_type": "code",
   "execution_count": 2,
   "id": "03a8c732-ab84-4935-b652-e636ce45802b",
   "metadata": {
    "tags": []
   },
   "outputs": [],
   "source": [
    "##getting the last time step\n",
    "step = db.get_timestep('cosmo25/%8192')"
   ]
  },
  {
   "cell_type": "code",
   "execution_count": 3,
   "id": "fec7a914-bf21-4af0-bba0-18d5ff8cfcc3",
   "metadata": {
    "tags": []
   },
   "outputs": [],
   "source": [
    "solar_metal = 0.0134"
   ]
  },
  {
   "cell_type": "markdown",
   "id": "01288453-e8eb-44c8-a0ac-915a1c95d63e",
   "metadata": {
    "tags": []
   },
   "source": [
    "# Data"
   ]
  },
  {
   "cell_type": "code",
   "execution_count": 4,
   "id": "ab864679-5bd7-454d-ac57-43a374c9fb7f",
   "metadata": {
    "tags": []
   },
   "outputs": [],
   "source": [
    "f = open('./Data/stellar_metal_BH.pkl', 'rb')\n",
    "stellar_metal_BH_data = pickle.load(f)\n",
    "f.close\n",
    "\n",
    "f = open('./Data/gas_metal_BH.pkl', 'rb')\n",
    "gas_metal_BH_data = pickle.load(f)\n",
    "f.close()\n",
    "\n",
    "f = open('./Data/stellar_metal.pkl', 'rb')\n",
    "stellar_metal_data = pickle.load(f)\n",
    "f.close()\n",
    "\n",
    "f = open('./Data/gas_metal.pkl', 'rb')\n",
    "gas_metal_data = pickle.load(f)\n",
    "f.close()\n",
    "\n",
    "f = open('./Data/stellar_h_frac.pkl', 'rb')\n",
    "stellar_h_data = pickle.load(f)\n",
    "f.close()\n",
    "\n",
    "f = open('./Data/gas_h_frac.pkl', 'rb')\n",
    "gas_h_data = pickle.load(f)\n",
    "f.close()\n",
    "\n",
    "f = open('./Data/Fe_Ox_data.pkl', 'rb')\n",
    "saved_Fe_Ox_data = pickle.load(f)\n",
    "f.close()\n",
    "\n",
    "f = open('./Data/SFR_data.pkl', 'rb')\n",
    "saved_SFR_data = pickle.load(f)\n",
    "f.close()\n",
    "\n",
    "f = open('./Data/O_gas_cut.pkl', 'rb')\n",
    "saved_gas_data = pickle.load(f)\n",
    "f.close()\n",
    "\n",
    "f = open('./Data/Fe_cut_stellar.pkl', 'rb')\n",
    "saved_stellar_data = pickle.load(f)\n",
    "f.close()"
   ]
  },
  {
   "cell_type": "code",
   "execution_count": 5,
   "id": "207cdac4-29c4-4ec5-aec6-2b69f4b6dbcc",
   "metadata": {
    "tags": []
   },
   "outputs": [],
   "source": [
    "all_halo_numbers = np.array(gas_metal_data['halo_number'])\n",
    "halo_with_BH = np.unique(step.calculate_all('host_halo.halo_number()')[0])\n",
    "\n",
    "BH_halo_ind = np.in1d(all_halo_numbers, halo_with_BH)\n",
    "halo_no_BH_ind = np.in1d(all_halo_numbers, halo_with_BH, invert = True)"
   ]
  },
  {
   "cell_type": "markdown",
   "id": "b815bc13-061c-4c2c-9b89-cf600b79c29a",
   "metadata": {
    "tags": []
   },
   "source": [
    "# Functions"
   ]
  },
  {
   "cell_type": "code",
   "execution_count": 6,
   "id": "7789b5bd-f9e5-428a-9bc2-6408ceb7fe7b",
   "metadata": {
    "tags": []
   },
   "outputs": [],
   "source": [
    "def small_get_halo_ind(arr1, num2, i):\n",
    "    x = []\n",
    "    if arr1[i] < num2:\n",
    "        x = np.append(x, i)\n",
    "    return x"
   ]
  },
  {
   "cell_type": "code",
   "execution_count": 7,
   "id": "df927a17-2a1c-4253-84f7-4946497445d6",
   "metadata": {
    "tags": []
   },
   "outputs": [],
   "source": [
    "def big_get_halo_ind(arr1, num, i):\n",
    "    x = []\n",
    "    if arr1[i] > num:\n",
    "        x = np.append(x, i)\n",
    "    return x"
   ]
  },
  {
   "cell_type": "code",
   "execution_count": 8,
   "id": "515fd569-c3f5-41a5-80ec-60da3f272e80",
   "metadata": {},
   "outputs": [],
   "source": [
    "def between_get_halo_ind(arr1, num1, num2, i):\n",
    "    x = []\n",
    "    if num1 < arr1[i] < num2:\n",
    "        x = np.append(x, i)\n",
    "    return x"
   ]
  },
  {
   "cell_type": "markdown",
   "id": "dc53990b-5309-4c13-8911-7c5898a1e7ae",
   "metadata": {},
   "source": [
    "# Main"
   ]
  },
  {
   "cell_type": "markdown",
   "id": "1159fe6a-5d56-4ba2-a8a6-5cd64a743553",
   "metadata": {},
   "source": [
    "Maybe I want to get the BH SFR for the last timestep and compare them with that of the haloes without BHs. This is not for the metallicity profiles, this is for Fe/H and O/H"
   ]
  },
  {
   "cell_type": "code",
   "execution_count": 9,
   "id": "ddbc82af-a8a5-4b57-a3b3-fbdcb9e39e73",
   "metadata": {
    "tags": []
   },
   "outputs": [],
   "source": [
    "stellar_cut_high = saved_stellar_data['stellar_high']\n",
    "stellar_cut_low = saved_stellar_data['stellar_low']\n",
    "stellar_BH_cut_low = saved_stellar_data['BH_stellar_low']\n",
    "\n",
    "gas_cut_high = saved_gas_data['gas_low']\n",
    "gas_cut_low = saved_gas_data['gas_high']\n",
    "gas_BH_cut_low = saved_gas_data['BH_gas_low']"
   ]
  },
  {
   "cell_type": "code",
   "execution_count": 10,
   "id": "6e9b1a3d-3f6c-4104-aa8d-10db769a02f5",
   "metadata": {
    "tags": []
   },
   "outputs": [],
   "source": [
    "stellar_mass_high = saved_stellar_data['mass_high']\n",
    "stellar_mass_low = saved_stellar_data['mass_low']\n",
    "BH_stellar_mass_low = saved_stellar_data['mass_BH_low']\n",
    "\n",
    "gas_mass_high = saved_gas_data['gas_stellar_mass_high']\n",
    "gas_mass_low = saved_gas_data['gas_stellar_mass_low']\n",
    "BH_gas_stellar_mass_low = saved_gas_data['BH_gas_stellar_mass_low']"
   ]
  },
  {
   "cell_type": "code",
   "execution_count": 11,
   "id": "273d340d-e599-4956-925d-aa9b265adf59",
   "metadata": {
    "tags": []
   },
   "outputs": [],
   "source": [
    "loop1 = np.arange(len(stellar_mass_low))\n",
    "loop2 = np.arange(len(BH_stellar_mass_low))\n",
    "\n",
    "stellar_mass_low_ind = []\n",
    "BH_stellar_mass_low_ind = []\n",
    "\n",
    "for i in loop1:\n",
    "    stellar_mass_low_ind = np.append(stellar_mass_low_ind, big_get_halo_ind(stellar_mass_low, 1e8, i))\n",
    "    \n",
    "for i in loop2:\n",
    "    BH_stellar_mass_low_ind = np.append(BH_stellar_mass_low_ind, big_get_halo_ind(BH_stellar_mass_low, 1e8, i))"
   ]
  },
  {
   "cell_type": "code",
   "execution_count": 12,
   "id": "11362522-7b99-401b-b740-d3d5ef400be1",
   "metadata": {
    "tags": []
   },
   "outputs": [],
   "source": [
    "stellar_mass_low_ind = stellar_mass_low_ind.astype(int)\n",
    "BH_stellar_mass_low_ind = BH_stellar_mass_low_ind.astype(int)"
   ]
  },
  {
   "cell_type": "code",
   "execution_count": 13,
   "id": "17a7accd-1712-479b-b8ff-7fbcb62d3fb7",
   "metadata": {
    "tags": []
   },
   "outputs": [],
   "source": [
    "stellar_mass_low_cut = stellar_mass_low[stellar_mass_low_ind]\n",
    "BH_stellar_mass_low_cut = BH_stellar_mass_low[BH_stellar_mass_low_ind]\n",
    "\n",
    "stellar_cut_low_cut = stellar_cut_low[stellar_mass_low_ind]\n",
    "BH_stellar_cut_low_cut = stellar_BH_cut_low[BH_stellar_mass_low_ind]"
   ]
  },
  {
   "cell_type": "code",
   "execution_count": 14,
   "id": "39948da5-6257-480b-a5c3-c75558e92424",
   "metadata": {
    "tags": []
   },
   "outputs": [
    {
     "data": {
      "image/png": "[encoded data removed]",
      "text/plain": [
       "<Figure size 1200x900 with 1 Axes>"
      ]
     },
     "metadata": {},
     "output_type": "display_data"
    }
   ],
   "source": [
    "plt.scatter(stellar_mass_low_cut, stellar_cut_low_cut/solar_metal)\n",
    "plt.scatter(BH_stellar_mass_low_cut, BH_stellar_cut_low_cut/solar_metal)\n",
    "plt.scatter(stellar_mass_high, stellar_cut_high/solar_metal)\n",
    "\n",
    "plt.axhline(y = 0.04, color = 'red')\n",
    "\n",
    "plt.xscale('log')\n",
    "plt.yscale('log')\n",
    "plt.xlim([1e8, 1e10])\n",
    "plt.ylim([1e-2, 1e-1])\n",
    "\n",
    "\n",
    "plt.grid()\n",
    "plt.show()"
   ]
  },
  {
   "cell_type": "code",
   "execution_count": 15,
   "id": "b682ab59-af4b-4bc0-b25e-d943086f0101",
   "metadata": {
    "tags": []
   },
   "outputs": [],
   "source": [
    "stellar_cut_low_cut = stellar_cut_low_cut.astype(int)\n",
    "BH_stellar_cut_low_cut = BH_stellar_cut_low_cut.astype(int)"
   ]
  },
  {
   "cell_type": "code",
   "execution_count": 16,
   "id": "856cc180-75a5-42f7-88fc-e7a12827cbc2",
   "metadata": {
    "tags": []
   },
   "outputs": [],
   "source": [
    "data_raw = step.calculate_all(\"host_halo.at(0.9 * radius(200),SFR_encl_25Myr)\", \"host_halo.at(0.9 * radius(200), SFR_encl_250Myr)\",'halo_number()')\n",
    "SFR_master_array = []\n",
    "for count, item in enumerate(data_raw[0]):\n",
    "    if item != 0:\n",
    "        SFR_master_array.append(item)\n",
    "    elif data_raw[1][count] != 0:\n",
    "        SFR_master_array.append(data_raw[1][count])\n",
    "    else:\n",
    "        SFR_master_array.append((6*10**4)/(250*10**6))"
   ]
  },
  {
   "cell_type": "code",
   "execution_count": 17,
   "id": "97115d68-119e-421e-9ddf-bdb7abf517ae",
   "metadata": {
    "tags": []
   },
   "outputs": [
    {
     "ename": "KeyError",
     "evalue": "'SFR'",
     "output_type": "error",
     "traceback": [
      "\u001b[0;31m---------------------------------------------------------------------------\u001b[0m",
      "\u001b[0;31mKeyError\u001b[0m                                  Traceback (most recent call last)",
      "Cell \u001b[0;32mIn[17], line 1\u001b[0m\n\u001b[0;32m----> 1\u001b[0m SFR_master \u001b[38;5;241m=\u001b[39m \u001b[43msaved_SFR_data\u001b[49m\u001b[43m[\u001b[49m\u001b[38;5;124;43m'\u001b[39;49m\u001b[38;5;124;43mSFR\u001b[39;49m\u001b[38;5;124;43m'\u001b[39;49m\u001b[43m]\u001b[49m\n\u001b[1;32m      2\u001b[0m SFR_fe \u001b[38;5;241m=\u001b[39m saved_SFR_data[\u001b[38;5;124m'\u001b[39m\u001b[38;5;124mSFR_Mstar_fe\u001b[39m\u001b[38;5;124m'\u001b[39m]\n",
      "\u001b[0;31mKeyError\u001b[0m: 'SFR'"
     ]
    }
   ],
   "source": [
    "SFR_master = saved_SFR_data['SFR']\n",
    "SFR_fe = saved_SFR_data['SFR_Mstar_fe']"
   ]
  },
  {
   "cell_type": "code",
   "execution_count": null,
   "id": "bebb7e7d-51e2-4b76-ada5-91c0d96bba86",
   "metadata": {
    "tags": []
   },
   "outputs": [],
   "source": [
    "SFR_master_array[-1]"
   ]
  },
  {
   "cell_type": "code",
   "execution_count": null,
   "id": "ecf8d617-5829-4664-b73f-323a7e2372d4",
   "metadata": {
    "tags": []
   },
   "outputs": [],
   "source": [
    "plt.hist(np.log10(SFR_master), bins = 20, density=True, histtype='step', lw=3, label = 'a')\n",
    "plt.hist(np.log10(SFR_master_array), bins = 20, density=True, histtype='step', lw=3)\n",
    "\n",
    "plt.ylabel('Probability Distribution')\n",
    "plt.xlabel('SFR $[M_{\\odot}/Yr]$')\n",
    "plt.title('SFR vs Probability Distribution at last time step')\n",
    "\n",
    "plt.yscale('log')\n",
    "#plt.xscale('log')\n",
    "\n",
    "plt.legend()\n",
    "plt.show()"
   ]
  },
  {
   "cell_type": "code",
   "execution_count": null,
   "id": "cfd8c79d-33c5-4132-a214-6c8ed91c73e1",
   "metadata": {
    "tags": []
   },
   "outputs": [],
   "source": [
    "plt.hist(SFR_fe, bins = 20, density=True, histtype='step', lw=3)\n",
    "#plt.hist(SFR_low, bins = 40, density=True, histtype='step', lw=3)\n",
    "\n",
    "plt.ylabel('Probability Distribution')\n",
    "plt.xlabel('SFR $[M_{\\odot}/Yr]$')\n",
    "plt.title('SFR vs Probability Distribution at last time step')\n",
    "\n",
    "plt.yscale('log')\n",
    "#plt.xscale('log')\n",
    "\n",
    "plt.show()"
   ]
  },
  {
   "cell_type": "code",
   "execution_count": null,
   "id": "ab4058d5-b42c-4e39-ac52-933cffc171b3",
   "metadata": {
    "tags": []
   },
   "outputs": [],
   "source": [
    "plt.hist(SFR_master_array, bins = 20, density=True, histtype='step', lw=3)\n",
    "#plt.hist(SFR_low, bins = 40, density=True, histtype='step', lw=3)\n",
    "\n",
    "plt.ylabel('Probability Distribution')\n",
    "plt.xlabel('SFR (Myr)')\n",
    "plt.title('SFR vs Probability Distribution at last time step')\n",
    "\n",
    "plt.yscale('log')\n",
    "#plt.xscale('log')\n",
    "\n",
    "plt.show()"
   ]
  },
  {
   "cell_type": "code",
   "execution_count": null,
   "id": "fba76cd9-1d4c-4de0-8823-ab96a77e2c9f",
   "metadata": {},
   "outputs": [],
   "source": []
  },
  {
   "cell_type": "code",
   "execution_count": null,
   "id": "5f7fba22-f709-4c36-96ac-825bae425b38",
   "metadata": {},
   "outputs": [],
   "source": []
  },
  {
   "cell_type": "code",
   "execution_count": null,
   "id": "23410bc4-df43-4574-bb74-4c1587428ce7",
   "metadata": {},
   "outputs": [],
   "source": []
  },
  {
   "cell_type": "code",
   "execution_count": null,
   "id": "10f15555-b8a5-497e-88d9-cf8027dc3e5e",
   "metadata": {},
   "outputs": [],
   "source": []
  },
  {
   "cell_type": "code",
   "execution_count": null,
   "id": "166e0c3b-fb84-4505-ba0e-67d5fe4f3d72",
   "metadata": {},
   "outputs": [],
   "source": []
  },
  {
   "cell_type": "code",
   "execution_count": null,
   "id": "6d2a11de-f665-45cc-9e78-5aeccd3bcbd9",
   "metadata": {},
   "outputs": [],
   "source": []
  },
  {
   "cell_type": "code",
   "execution_count": null,
   "id": "2ba34013-9de8-4c39-b1e1-6098fb5a055d",
   "metadata": {},
   "outputs": [],
   "source": []
  },
  {
   "cell_type": "code",
   "execution_count": null,
   "id": "d7cd7844-3cba-4aec-a238-f21727bcaccf",
   "metadata": {},
   "outputs": [],
   "source": []
  },
  {
   "cell_type": "code",
   "execution_count": null,
   "id": "e5348a2e-7d7b-490c-9e3a-6c04b6b9d8ea",
   "metadata": {
    "tags": []
   },
   "outputs": [],
   "source": [
    "def assembly_single(halo, threshold, sim=sim, tstep=33):\n",
    "    #A function which takes in a single halo and finds time at which halo reached that percentage of mass by interpolating mass vs time\n",
    "    #halo: halo as per .halos[halo]\n",
    "    #threshold: value between 0.1<threshold<=1 so we can find time at which mass = threshold * final mass\n",
    "    #tstep: Timestep considered as per .timesteps[tstep]\n",
    "    #sim: By default Romulus25. The simulation in question\n",
    "    \n",
    "    my_halo = sim.timesteps[tstep].halos[halo]\n",
    "    M_history, t_history = my_halo.calculate_for_progenitors(\"Mstar\", \"t()\")\n",
    "    M_history, t_history = np.flip(M_history), np.flip(t_history)\n",
    "    t_interp = np.linspace(int(t_history[0]*100)/100, int(t_history[-1]*100)/100, int((t_history[-1]-t_history[0]) * 100)+1)+0.01\n",
    "    \n",
    "    M_interp = np.array(np.interp(t_interp, t_history, M_history))\n",
    "    \n",
    "    \n",
    "    return t_interp[np.where(M_interp/M_interp[-1] > threshold)[0][0]]"
   ]
  },
  {
   "cell_type": "code",
   "execution_count": null,
   "id": "7b41490d-6e1d-459c-8799-46bf1c9d05ec",
   "metadata": {
    "tags": []
   },
   "outputs": [],
   "source": [
    "metal_ass = []\n",
    "\n",
    "metal_ass = [assembly_single(halo_num, threshold = 0.5, sim = sim, tstep = -1) for halo_num in high_no_BH]"
   ]
  },
  {
   "cell_type": "code",
   "execution_count": null,
   "id": "1f85f3bf-febc-4abf-9383-ac5c0e4886a7",
   "metadata": {
    "tags": []
   },
   "outputs": [],
   "source": [
    "metal_ass[0]"
   ]
  },
  {
   "cell_type": "code",
   "execution_count": null,
   "id": "64cf7f67-bbbf-4b63-8053-b34c3fe8153b",
   "metadata": {
    "tags": []
   },
   "outputs": [],
   "source": [
    "mstar, t = sim.timesteps[-1].halos[high_no_BH[0]].calculate_for_progenitors('Mstar', 't()')"
   ]
  },
  {
   "cell_type": "code",
   "execution_count": null,
   "id": "0f263d15-66f0-406a-a8f3-0d61ec7693d4",
   "metadata": {
    "tags": []
   },
   "outputs": [],
   "source": [
    "mstar"
   ]
  },
  {
   "cell_type": "code",
   "execution_count": null,
   "id": "bb104b69-8c4a-4fa6-8f6f-5caaabe7beea",
   "metadata": {
    "tags": []
   },
   "outputs": [],
   "source": [
    "plt.plot(t, mstar/mstar[0])\n",
    "plt.show()"
   ]
  },
  {
   "cell_type": "code",
   "execution_count": null,
   "id": "aa6c29cb-033e-44b6-8a24-4df258827cf8",
   "metadata": {},
   "outputs": [],
   "source": []
  }
 ],
 "metadata": {
  "kernelspec": {
   "display_name": "Python 3 (ipykernel)",
   "language": "python",
   "name": "python3"
  },
  "language_info": {
   "codemirror_mode": {
    "name": "ipython",
    "version": 3
   },
   "file_extension": ".py",
   "mimetype": "text/x-python",
   "name": "python",
   "nbconvert_exporter": "python",
   "pygments_lexer": "ipython3",
   "version": "3.10.10"
  }
 },
 "nbformat": 4,
 "nbformat_minor": 5
}
